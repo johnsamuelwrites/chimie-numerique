{
 "cells": [
  {
   "cell_type": "markdown",
   "id": "0749a814",
   "metadata": {},
   "source": [
    "# TP 1\n",
    "\n",
    "## 0bjectifs\n",
    "\n",
    "* Comprendre les bases de la programmation Python :\n",
    "* Variables, types de données, listes, ensembles et tuples.\n",
    "* Expressions conditionnelles et boucles\n",
    "* Trier\n",
    "* Dictionnaire\n",
    "* Fichiers et interaction avec les utilisateurs\n",
    "* Numpy"
   ]
  },
  {
   "cell_type": "markdown",
   "id": "745d6aaf",
   "metadata": {},
   "source": [
    "## Exercice 1\n",
    "\n",
    "1\\. Commentaires\n"
   ]
  },
  {
   "cell_type": "code",
   "execution_count": null,
   "id": "7a484590",
   "metadata": {},
   "outputs": [],
   "source": [
    "# Ceci est un commentaire\n",
    "print(\"Bonjour\")"
   ]
  },
  {
   "cell_type": "markdown",
   "id": "f88a05d2",
   "metadata": {},
   "source": [
    "2\\. Variables\n",
    "\n"
   ]
  },
  {
   "cell_type": "code",
   "execution_count": null,
   "id": "0c685eec",
   "metadata": {},
   "outputs": [],
   "source": [
    "# une variable\n",
    "message = \"le monde!\"\n",
    "print(message)"
   ]
  },
  {
   "cell_type": "code",
   "execution_count": null,
   "id": "103de144",
   "metadata": {},
   "outputs": [],
   "source": [
    "a = 10\n",
    "b = 20\n",
    "c = a + b\n",
    "print(c)"
   ]
  },
  {
   "cell_type": "code",
   "execution_count": null,
   "id": "0569e76b",
   "metadata": {},
   "outputs": [],
   "source": [
    "# nombres réels\n",
    "pi = 3.14\n",
    "print(pi)"
   ]
  },
  {
   "cell_type": "code",
   "execution_count": null,
   "id": "e00af842",
   "metadata": {},
   "outputs": [],
   "source": [
    "# types de donnés\n",
    "message1 = \"Bonjour\"\n",
    "a = 12\n",
    "pi = 3.14\n",
    "print(type(message1))\n",
    "print(type(a))\n",
    "print(type(pi))"
   ]
  },
  {
   "cell_type": "markdown",
   "id": "1f686b39",
   "metadata": {},
   "source": [
    "3\\. Concaténation de deux chaînes de caractères\n",
    "\n"
   ]
  },
  {
   "cell_type": "code",
   "execution_count": null,
   "id": "e37d259f",
   "metadata": {},
   "outputs": [],
   "source": [
    "# Concaténation de deux chaînes de caractères\n",
    "message = \"le monde!\"\n",
    "print(\"Bonjour\" + message)"
   ]
  },
  {
   "cell_type": "code",
   "execution_count": null,
   "id": "ca8dc2d2",
   "metadata": {},
   "outputs": [],
   "source": [
    "# Concaténation de deux chaînes de caractères\n",
    "message1 = \"Bonjour \"\n",
    "message2 = \"le monde!\"\n",
    "print(message1 + message2)"
   ]
  },
  {
   "cell_type": "code",
   "execution_count": null,
   "id": "8239fdf9",
   "metadata": {},
   "outputs": [],
   "source": [
    "# concaténation de deux variables de types de données différents\n",
    "# opération + sur deux types de données différents\n",
    "\n",
    "# Supprimer le commentaire ci-dessous et lancer le code\n",
    "message1 = \"Bonjour en Python\"\n",
    "a = 3\n",
    "# print(message1 + a)"
   ]
  },
  {
   "cell_type": "markdown",
   "id": "fcda0d87",
   "metadata": {},
   "source": [
    "Pourquoi cette erreur ? Dans le code suivant, nous corrigeons cette erreur."
   ]
  },
  {
   "cell_type": "code",
   "execution_count": null,
   "id": "bacaa65b",
   "metadata": {},
   "outputs": [],
   "source": [
    "# solution de concaténation entre deux variables de types de données différents\n",
    "message1 = \"Bonjour en Python \"\n",
    "a = 3\n",
    "print(message1 + str(a))"
   ]
  },
  {
   "cell_type": "markdown",
   "id": "254b6dbd",
   "metadata": {},
   "source": [
    "4\\. Listes"
   ]
  },
  {
   "cell_type": "code",
   "execution_count": null,
   "id": "25eccc7f",
   "metadata": {},
   "outputs": [],
   "source": [
    "a = [10, 20, 30, 40, 50]\n",
    "print(a)"
   ]
  },
  {
   "cell_type": "code",
   "execution_count": null,
   "id": "8144a9d1",
   "metadata": {},
   "outputs": [],
   "source": [
    "a = [10, 20, 30, 40, 50]\n",
    "print(a[0])\n",
    "print(a[1])\n",
    "print(a[2])\n",
    "print(a[3])\n",
    "print(a[4])"
   ]
  },
  {
   "cell_type": "code",
   "execution_count": null,
   "id": "4d6c5278",
   "metadata": {},
   "outputs": [],
   "source": [
    "# Supprimer le commentaire ci-dessous et lancer le code\n",
    "a = [10, 20, 30, 40, 50]\n",
    "# print(a[8])"
   ]
  },
  {
   "cell_type": "markdown",
   "id": "09f5f3d5",
   "metadata": {},
   "source": [
    "Nous essayons d'accéder à un élément à un index qui n'existe pas"
   ]
  },
  {
   "cell_type": "code",
   "execution_count": null,
   "id": "658dd1e3",
   "metadata": {},
   "outputs": [],
   "source": [
    "message1 = \"Bonjour en Python \"\n",
    "print(message1[0])\n",
    "print(message1[1])\n",
    "print(message1[2])\n",
    "print(message1[3])\n",
    "print(message1[4])\n",
    "print(message1[5])\n",
    "print(message1[6])\n",
    "print(message1[7])"
   ]
  },
  {
   "cell_type": "markdown",
   "id": "ab49b252",
   "metadata": {},
   "source": [
    "Le code ci-dessus affiche les différents caractères de la chaîne (ou liste de caractères).\n",
    "Nous allons maintenant obtenir la longueur de cette chaîne."
   ]
  },
  {
   "cell_type": "code",
   "execution_count": null,
   "id": "d9085216",
   "metadata": {},
   "outputs": [],
   "source": [
    "message1 = \"Bonjour en Python \"\n",
    "print(len(message1))"
   ]
  },
  {
   "cell_type": "markdown",
   "id": "71a16e27",
   "metadata": {},
   "source": [
    "Nous allons maintenant créer une liste d'entiers"
   ]
  },
  {
   "cell_type": "code",
   "execution_count": null,
   "id": "4799ac64",
   "metadata": {},
   "outputs": [],
   "source": [
    "a = [10, 20, 30, 40, 50]\n",
    "print(len(a))"
   ]
  },
  {
   "cell_type": "code",
   "execution_count": null,
   "id": "01673d1d",
   "metadata": {},
   "outputs": [],
   "source": [
    "a = [10, 20, 30, 40, 50]\n",
    "\n",
    "# ajouter un nouveau numéro à la fin de la liste\n",
    "a.append(60)\n",
    "print(a)"
   ]
  },
  {
   "cell_type": "code",
   "execution_count": null,
   "id": "1a9eb572",
   "metadata": {},
   "outputs": [],
   "source": [
    "a = [10, 20, 30, 40, 50]\n",
    "\n",
    "# modifier un numéro à un index donné\n",
    "a[0] = 0\n",
    "print(a)"
   ]
  },
  {
   "cell_type": "code",
   "execution_count": null,
   "id": "32e88063",
   "metadata": {},
   "outputs": [],
   "source": [
    "# Supprimer le commentaire ci-dessous et lancer le code\n",
    "a = [10, 20, 30, 40, 50]\n",
    "\n",
    "# a[6] = 20\n",
    "print(a)"
   ]
  },
  {
   "cell_type": "markdown",
   "id": "ef4466da",
   "metadata": {},
   "source": [
    "Pourquoi cette erreur? Nous modifions un élément à un indice inexistant."
   ]
  },
  {
   "cell_type": "code",
   "execution_count": null,
   "id": "0cab036d",
   "metadata": {},
   "outputs": [],
   "source": [
    "a = [10, 20, 30, 40, 50]\n",
    "\n",
    "# l'insertion d'un élément à un index particulier modifiera la liste\n",
    "a.insert(0, 0)\n",
    "print(a)\n",
    "print(len(a))"
   ]
  },
  {
   "cell_type": "code",
   "execution_count": null,
   "id": "6e4a96e2",
   "metadata": {},
   "outputs": [],
   "source": [
    "a = [10, 20, 30, 40, 50]\n",
    "a.insert(6, 60)\n",
    "print(a)\n",
    "print(len(a))"
   ]
  },
  {
   "cell_type": "code",
   "execution_count": null,
   "id": "4ca7b3ce",
   "metadata": {},
   "outputs": [],
   "source": [
    "a = [10, 20, 30, 40, 50]\n",
    "\n",
    "# Nous allons maintenant essayer d'insérer un nombre à un index plus grand que la longueur\n",
    "# de la liste. Nous veillerons à ce qu'il n'y ait pas d'erreur et le nouveau numéro\n",
    "# est ajouté à la fin de la liste\n",
    "a.insert(10, 60)\n",
    "print(a)\n",
    "print(len(a))"
   ]
  },
  {
   "cell_type": "markdown",
   "id": "57688391",
   "metadata": {},
   "source": [
    "5\\. Tuples (non-modifiable lists)\n",
    "\n"
   ]
  },
  {
   "cell_type": "code",
   "execution_count": null,
   "id": "091f8fa6",
   "metadata": {},
   "outputs": [],
   "source": [
    "a = (10, 20, 30, 40, 50)\n",
    "print(a)"
   ]
  },
  {
   "cell_type": "code",
   "execution_count": null,
   "id": "6f5b3ea5",
   "metadata": {},
   "outputs": [],
   "source": [
    "a = (10, 20, 30, 40, 50)\n",
    "print(a[0])"
   ]
  },
  {
   "cell_type": "code",
   "execution_count": null,
   "id": "388a7d16",
   "metadata": {},
   "outputs": [],
   "source": [
    "a = (10, 20, 30, 40, 50)\n",
    "\n",
    "\n",
    "# Nous essayons maintenant de modifier un tuple\n",
    "# Décommentez le code ci-dessous et lancez le code\n",
    "# Un tupe est une liste non modifiable\n",
    "\n",
    "# a[0] = 0\n",
    "print(a)"
   ]
  },
  {
   "cell_type": "markdown",
   "id": "120a5d78",
   "metadata": {},
   "source": [
    "6\\. Sets\n",
    "\n"
   ]
  },
  {
   "cell_type": "code",
   "execution_count": null,
   "id": "b8fc8150",
   "metadata": {},
   "outputs": [],
   "source": [
    "# Un ensemble(Set) est une collection d'éléments distincts\n",
    "\n",
    "a = {10, 20, 30, 40, 50, 10, 20, 30, 40, 50}\n",
    "print(a)"
   ]
  },
  {
   "cell_type": "code",
   "execution_count": null,
   "id": "92551895",
   "metadata": {},
   "outputs": [],
   "source": [
    "a = {10, 20, 30, 40, 50, 10, 20, 30, 40, 50}\n",
    "a.add(10)\n",
    "print(a)"
   ]
  },
  {
   "cell_type": "code",
   "execution_count": null,
   "id": "d70f750b",
   "metadata": {},
   "outputs": [],
   "source": [
    "a = {10, 20, 30, 40, 50, 10, 20, 30, 40, 50}\n",
    "a.add(60)\n",
    "print(a)"
   ]
  },
  {
   "cell_type": "code",
   "execution_count": null,
   "id": "c4a399c0",
   "metadata": {},
   "outputs": [],
   "source": [
    "a = {10, 20, 30, 40, 50, 10, 20, 30, 40, 50}\n",
    "a.remove(40)\n",
    "print(a)"
   ]
  },
  {
   "cell_type": "markdown",
   "id": "40b00f2d",
   "metadata": {},
   "source": [
    "Nous allons maintenant essayer différents types de données avec les chiffres et afficher le résultat."
   ]
  },
  {
   "cell_type": "code",
   "execution_count": null,
   "id": "b901ca20",
   "metadata": {},
   "outputs": [],
   "source": [
    "# set\n",
    "a = {10, 20, 30, 40, 50, 10, 20, 30, 40, 50}\n",
    "print(a)\n",
    "print(type(a))\n",
    "\n",
    "# tuple\n",
    "b = (10, 20, 30, 40, 50, 10, 20, 30, 40, 50)\n",
    "print(b)\n",
    "print(type(b))\n",
    "\n",
    "# list\n",
    "c = [10, 20, 30, 40, 50, 10, 20, 30, 40, 50]\n",
    "print(c)\n",
    "print(type(c))"
   ]
  },
  {
   "cell_type": "markdown",
   "id": "42f91c08",
   "metadata": {},
   "source": [
    "## Exercice 2\n",
    "\n",
    "1\\. Expressions conditionnelles\n"
   ]
  },
  {
   "cell_type": "code",
   "execution_count": null,
   "id": "02bd4cba",
   "metadata": {},
   "outputs": [],
   "source": [
    "a = 12\n",
    "if a % 2 == 0:\n",
    "    print(a, \" is divisible by 2\")\n",
    "else:\n",
    "    print(a, \" is not divisible by 2\")"
   ]
  },
  {
   "cell_type": "code",
   "execution_count": null,
   "id": "79ec69e4",
   "metadata": {},
   "outputs": [],
   "source": [
    "lang = \"Français\"\n",
    "if lang == \"Français\":\n",
    "    print(\"Bonjour le monde!\")\n",
    "else:\n",
    "    print(\"Hello World!\")"
   ]
  },
  {
   "cell_type": "markdown",
   "id": "3b72620c",
   "metadata": {},
   "source": [
    "2\\. Boucles\n",
    "\n",
    "Les boucles peuvent également être utilisées pour accéder aux éléments de différents indices."
   ]
  },
  {
   "cell_type": "code",
   "execution_count": null,
   "id": "680bb1ef",
   "metadata": {},
   "outputs": [],
   "source": [
    "# liste\n",
    "for i in [10, 20, 30, 40, 50, 10, 20, 30, 40, 50]:\n",
    "    print(i)"
   ]
  },
  {
   "cell_type": "code",
   "execution_count": null,
   "id": "23b71b93",
   "metadata": {},
   "outputs": [],
   "source": [
    "# tuples\n",
    "for i in (10, 20, 30, 40, 50, 10, 20, 30, 40, 50):\n",
    "    print(i)"
   ]
  },
  {
   "cell_type": "code",
   "execution_count": null,
   "id": "8f8c144e",
   "metadata": {},
   "outputs": [],
   "source": [
    "# set\n",
    "for i in {10, 20, 30, 40, 50, 10, 20, 30, 40, 50}:\n",
    "    print(i)"
   ]
  },
  {
   "cell_type": "markdown",
   "id": "bf582ee6",
   "metadata": {},
   "source": [
    "2\\. Limites\n",
    "\n"
   ]
  },
  {
   "cell_type": "code",
   "execution_count": null,
   "id": "32d9c3ef",
   "metadata": {},
   "outputs": [],
   "source": [
    "for i in range(0, 10):\n",
    "    print(i)"
   ]
  },
  {
   "cell_type": "code",
   "execution_count": null,
   "id": "e12fc521",
   "metadata": {},
   "outputs": [],
   "source": [
    "for i in range(0, 10, 2):\n",
    "    print(i)"
   ]
  },
  {
   "cell_type": "code",
   "execution_count": null,
   "id": "31e301dc",
   "metadata": {},
   "outputs": [],
   "source": [
    "# print() par défaut affiche le message suivi d'une nouvelle ligne\n",
    "# Mais vous pouvez changer son comportement\n",
    "\n",
    "for i in range(0, 10, 2):\n",
    "    print(i, end=\" \")"
   ]
  },
  {
   "cell_type": "code",
   "execution_count": null,
   "id": "36671a49",
   "metadata": {},
   "outputs": [],
   "source": [
    "for i in range(10, 0, -2):\n",
    "    print(i)"
   ]
  },
  {
   "cell_type": "code",
   "execution_count": null,
   "id": "b9214471",
   "metadata": {},
   "outputs": [],
   "source": [
    "for i in range(10, 0):\n",
    "    print(i)"
   ]
  },
  {
   "cell_type": "markdown",
   "id": "2c263af8",
   "metadata": {},
   "source": [
    "split(): La fonction peut être utilisée pour séparer une chaîne de caractères en utilisant \n",
    "un délimiteur spécifié. Par défaut, le délimiteur est un espace blanc."
   ]
  },
  {
   "cell_type": "code",
   "execution_count": null,
   "id": "a6d29bb7",
   "metadata": {},
   "outputs": [],
   "source": [
    "for i in \"Bonjour,le,monde!\".split():\n",
    "    print(i)"
   ]
  },
  {
   "cell_type": "code",
   "execution_count": null,
   "id": "f9eba34b",
   "metadata": {},
   "outputs": [],
   "source": [
    "for i in \"Bonjour,le,monde!\".split(\",\"):\n",
    "    print(i)"
   ]
  },
  {
   "cell_type": "markdown",
   "id": "11df409f",
   "metadata": {},
   "source": [
    "Write a program in Python to display the following output\n",
    "\n",
    "  \n",
    " 1\n",
    " \n",
    " 12\n",
    " \n",
    " 123\n",
    " \n",
    " 1234\n",
    " \n",
    " 12345\n",
    " \n",
    " 123456\n",
    " \n",
    " 1234567\n",
    " \n",
    " 12345678"
   ]
  },
  {
   "cell_type": "markdown",
   "id": "05b0851f",
   "metadata": {},
   "source": [
    "## Exercice 3\n",
    "\n",
    "1\\. Tri\n",
    "\n"
   ]
  },
  {
   "cell_type": "code",
   "execution_count": null,
   "id": "70dbff83",
   "metadata": {},
   "outputs": [],
   "source": [
    "num = [10, 20, 30, 40, 50, 10, 20, 30, 40, 50]\n",
    "num.sort()\n",
    "print(num)"
   ]
  },
  {
   "cell_type": "markdown",
   "id": "2d840a73",
   "metadata": {},
   "source": [
    "2\\. Tri (ordre décroissant)\n",
    "\n"
   ]
  },
  {
   "cell_type": "code",
   "execution_count": null,
   "id": "d444c2ef",
   "metadata": {},
   "outputs": [],
   "source": [
    "num = [10, 20, 30, 40, 50, 10, 20, 30, 40, 50]\n",
    "num.sort(reverse=True)\n",
    "print(num)"
   ]
  },
  {
   "cell_type": "markdown",
   "id": "9e3de82d",
   "metadata": {},
   "source": [
    "3\\. minimum\n",
    "\n"
   ]
  },
  {
   "cell_type": "code",
   "execution_count": null,
   "id": "788937bc",
   "metadata": {},
   "outputs": [],
   "source": [
    "num = [10, 20, 30, 40, 50, 10, 20, 30, 40, 50]\n",
    "print(min(num))"
   ]
  },
  {
   "cell_type": "markdown",
   "id": "9b7ce02d",
   "metadata": {},
   "source": [
    "4\\. maximum\n",
    "\n"
   ]
  },
  {
   "cell_type": "code",
   "execution_count": null,
   "id": "8102b783",
   "metadata": {},
   "outputs": [],
   "source": [
    "num = [10, 20, 30, 40, 50, 10, 20, 30, 40, 50]\n",
    "print(max(num))"
   ]
  },
  {
   "cell_type": "markdown",
   "id": "e38bfb1d",
   "metadata": {},
   "source": [
    "5\\. sorted()\n",
    "\n",
    "Vous pouvez utiliser cette fonction si vous ne souhaitez pas modifier votre liste initiale par un tri."
   ]
  },
  {
   "cell_type": "code",
   "execution_count": null,
   "id": "e601c65d",
   "metadata": {},
   "outputs": [],
   "source": [
    "num = [70, 20, 30, 10, 50, 60, 20, 80, 70, 50]\n",
    "tri = sorted(num, reverse=True)\n",
    "print(num)\n",
    "print(tri)"
   ]
  },
  {
   "cell_type": "code",
   "execution_count": null,
   "id": "0051b178",
   "metadata": {},
   "outputs": [],
   "source": [
    "num = [70, 20, 30, 10, 50, 60, 20, 80, 70, 50]\n",
    "\n",
    "# sélectionner les cinq premiers numéros\n",
    "tri = sorted(num, reverse=True)[:5]\n",
    "print(tri)"
   ]
  },
  {
   "cell_type": "markdown",
   "id": "2d2848ae",
   "metadata": {},
   "source": [
    "Modifiez le code donné ci-dessous pour afficher les cinq plus grands numéros uniques.\n"
   ]
  },
  {
   "cell_type": "code",
   "execution_count": null,
   "id": "f7747060",
   "metadata": {},
   "outputs": [],
   "source": [
    "print(sorted(\"Bonjour le monde!\".split(), key=str.lower, reverse=True))"
   ]
  },
  {
   "cell_type": "markdown",
   "id": "e6897a05",
   "metadata": {},
   "source": [
    "## Exercice 4\n",
    "\n",
    "1\\. Dictionnaire\n",
    "\n"
   ]
  },
  {
   "cell_type": "code",
   "execution_count": null,
   "id": "ec9b368d",
   "metadata": {},
   "outputs": [],
   "source": [
    "a = {\"contente\": 12, \"content\": 12, \"triste\": 2}\n",
    "print(a)\n",
    "print(type(a))"
   ]
  },
  {
   "cell_type": "code",
   "execution_count": null,
   "id": "6421dd26",
   "metadata": {},
   "outputs": [],
   "source": [
    "a = {\"contente\": 12, \"content\": 12, \"triste\": 2}\n",
    "for key in a:\n",
    "    print(\"la phrase \", key, \" apparait \", a[key], \" fois\")"
   ]
  },
  {
   "cell_type": "code",
   "execution_count": null,
   "id": "4b7fc36d",
   "metadata": {},
   "outputs": [],
   "source": [
    "a = {\"contente\": 12, \"content\": 12, \"triste\": 2}\n",
    "for key, value in a.items():\n",
    "    print(\"la phrase \", key, \" apparait \", value, \" fois\")"
   ]
  },
  {
   "cell_type": "code",
   "execution_count": null,
   "id": "e15db10c",
   "metadata": {},
   "outputs": [],
   "source": [
    "a = {\"contente\": 12, \"content\": 12, \"triste\": 2}\n",
    "a[\"joie\"] = 10\n",
    "print(a)"
   ]
  },
  {
   "cell_type": "code",
   "execution_count": null,
   "id": "3c3cc19d",
   "metadata": {},
   "outputs": [],
   "source": [
    "a = {\"contente\": 12, \"content\": 12, \"triste\": 2}\n",
    "del a[\"triste\"]\n",
    "print(a)"
   ]
  },
  {
   "cell_type": "code",
   "execution_count": null,
   "id": "566e6451",
   "metadata": {},
   "outputs": [],
   "source": [
    "mots = {\"contente\": 12, \"content\": 12, \"triste\": 2, \"joie\": 10}\n",
    "print(sorted(mots))"
   ]
  },
  {
   "cell_type": "code",
   "execution_count": null,
   "id": "9acfae25",
   "metadata": {},
   "outputs": [],
   "source": [
    "mots = {\"contente\": 12, \"content\": 12, \"triste\": 2, \"joie\": 10}\n",
    "mots_tuple = [(key, value) for key, value in mots.items()]\n",
    "print(mots_tuple)"
   ]
  },
  {
   "cell_type": "markdown",
   "id": "64530d6b",
   "metadata": {},
   "source": [
    "2\\. itemgetter"
   ]
  },
  {
   "cell_type": "code",
   "execution_count": null,
   "id": "7a5a54be",
   "metadata": {},
   "outputs": [],
   "source": [
    "from operator import itemgetter\n",
    "\n",
    "mots = {\"contente\": 12, \"content\": 12, \"triste\": 2, \"joie\": 10}\n",
    "mots_tuple = [(key, value) for key, value in mots.items()]\n",
    "print(sorted(mots_tuple, key=itemgetter(1)))"
   ]
  },
  {
   "cell_type": "markdown",
   "id": "c620c5e6",
   "metadata": {},
   "source": [
    "3\\. Interaction with user"
   ]
  },
  {
   "cell_type": "code",
   "execution_count": null,
   "id": "9147b619",
   "metadata": {},
   "outputs": [],
   "source": [
    "# nom = input(\"Quel est votre nom?\")\n",
    "# print(nom)"
   ]
  },
  {
   "cell_type": "code",
   "execution_count": null,
   "id": "0eb75315",
   "metadata": {},
   "outputs": [],
   "source": [
    "# age = input(\"Quel est votre âge? \")\n",
    "# print(age)\n",
    "# print(type(age))"
   ]
  },
  {
   "cell_type": "code",
   "execution_count": null,
   "id": "64b2857e",
   "metadata": {},
   "outputs": [],
   "source": [
    "# age = input(\"Quel est votre âge? \")\n",
    "# age = int(age)\n",
    "# print(age)\n",
    "# print(type(age))"
   ]
  },
  {
   "cell_type": "markdown",
   "id": "5d3b04a1",
   "metadata": {},
   "source": [
    "**Question:** Ecrire un programme en Python qui interagit avec l'utilisateur pour\n",
    "obtenir les informations suivantes de 5 étudiants :\n",
    "\n",
    "- Nom de l'étudiant\n",
    "- Âge\n",
    "- Grades en 5 modules\n",
    "\n",
    "Une fois les informations obtenues pour les cinq étudiants, calculez\n",
    "et afficher les valeurs suivantes pour chaque module :\n",
    "\n",
    "- note moyenne\n",
    "- note maximale\n",
    "- note minimale"
   ]
  },
  {
   "cell_type": "markdown",
   "id": "2896b68e",
   "metadata": {},
   "source": [
    "## Exercice 5\n",
    "\n",
    "Lire et écrire dans un fichier"
   ]
  },
  {
   "cell_type": "markdown",
   "id": "b6d17f0c",
   "metadata": {},
   "source": [
    "1\\. Fichiers\n"
   ]
  },
  {
   "cell_type": "code",
   "execution_count": null,
   "id": "4301e195",
   "metadata": {},
   "outputs": [],
   "source": [
    "# écrire dans un fichier\n",
    "message = \"Bonjour le monde\"\n",
    "with open(\"bonjour.txt\", \"w\") as file:\n",
    "    file.write(message)\n",
    "file.close()"
   ]
  },
  {
   "cell_type": "code",
   "execution_count": null,
   "id": "050dc94c",
   "metadata": {},
   "outputs": [],
   "source": [
    "# lire un fichier\n",
    "with open(\"bonjour.txt\", \"r\") as file:\n",
    "    text = file.read()\n",
    "    print(text)\n",
    "file.close()"
   ]
  },
  {
   "cell_type": "code",
   "execution_count": null,
   "id": "9dba0dd2",
   "metadata": {},
   "outputs": [],
   "source": [
    "# écrire dans un fichier\n",
    "message1 = \"Bonjour le monde\"\n",
    "message2 = \"Programmation en Python\"\n",
    "with open(\"bonjour.txt\", \"w\") as file:\n",
    "    file.write(message1)\n",
    "    file.write(message2)\n",
    "file.close()"
   ]
  },
  {
   "cell_type": "code",
   "execution_count": null,
   "id": "b1eec419",
   "metadata": {},
   "outputs": [],
   "source": [
    "# lire un fichier\n",
    "with open(\"bonjour.txt\", \"r\") as file:\n",
    "    text = file.read()\n",
    "    print(text)\n",
    "file.close()"
   ]
  },
  {
   "cell_type": "code",
   "execution_count": null,
   "id": "7d5de241",
   "metadata": {},
   "outputs": [],
   "source": [
    "# Rédaction dans un fichier en utilisant le caractère de nouvelle ligne\n",
    "message1 = \"Bonjour le monde\\n\"\n",
    "message2 = \"Programmation en Python\"\n",
    "with open(\"bonjour.txt\", \"w\") as file:\n",
    "    file.write(message1)\n",
    "    file.write(message2)\n",
    "file.close()\n",
    "\n",
    "with open(\"bonjour.txt\", \"r\") as file:\n",
    "    text = file.read()\n",
    "    print(text)\n",
    "file.close()"
   ]
  },
  {
   "cell_type": "markdown",
   "id": "5deb48a9",
   "metadata": {},
   "source": [
    "2\\. readline()\n",
    "\n",
    "Cette fonction peut être utilisée pour lire un fichier ligne par ligne et non le contenu complet en un seul appel comme read()"
   ]
  },
  {
   "cell_type": "code",
   "execution_count": null,
   "id": "4968a038",
   "metadata": {},
   "outputs": [],
   "source": [
    "message1 = \"Bonjour le monde\\n\"\n",
    "message2 = \"Programmation en Python\"\n",
    "with open(\"bonjour.txt\", \"w\") as file:\n",
    "    file.write(message1)\n",
    "    file.write(message2)\n",
    "file.close()"
   ]
  },
  {
   "cell_type": "code",
   "execution_count": null,
   "id": "e75f54e2",
   "metadata": {},
   "outputs": [],
   "source": [
    "with open(\"bonjour.txt\", \"r\") as file:\n",
    "    text = file.readline()\n",
    "    print(text)\n",
    "file.close()"
   ]
  },
  {
   "cell_type": "code",
   "execution_count": null,
   "id": "8d257bc2",
   "metadata": {},
   "outputs": [],
   "source": [
    "message1 = \"Bonjour le monde\\n\"\n",
    "message2 = \"Programmation en Python\\n\"\n",
    "with open(\"bonjour.txt\", \"w\") as file:\n",
    "    file.write(message1)\n",
    "    file.write(message2)\n",
    "file.close()"
   ]
  },
  {
   "cell_type": "code",
   "execution_count": null,
   "id": "3cbdd6e7",
   "metadata": {},
   "outputs": [],
   "source": [
    "with open(\"bonjour.txt\", \"r\") as file:\n",
    "    for line in file:\n",
    "        print(line)\n",
    "file.close()"
   ]
  },
  {
   "cell_type": "markdown",
   "id": "6190745d",
   "metadata": {},
   "source": [
    "**Question:** Copiez un fichier HTML dans votre répertoire. Ecrire un programme\n",
    "en Python pour obtenir les valeurs suivantes :\n",
    "\n",
    "- nombre de caractères dans le fichier HTML\n",
    "- nombre de lignes dans le fichier HTML\n",
    "- nombre de mots dans le fichier HTML\n",
    "- les vingt premiers mots du fichier HTML\n",
    "- des mots distincts dans le fichier HTML\n",
    "\n"
   ]
  },
  {
   "cell_type": "markdown",
   "id": "9a0503ce",
   "metadata": {},
   "source": [
    "**Question:** Copier le CSV\n",
    "du fichier population.csv du dossier **data**. Le fichier contient les valeurs de population entre\n",
    "1901 et 2016. Écrivez un programme en Python pour obtenir la valeur maximale.\n",
    "\n",
    "- la valeur maximale de la population\n",
    "- la valeur minimale de la population\n"
   ]
  },
  {
   "cell_type": "markdown",
   "id": "3d2f2208",
   "metadata": {},
   "source": [
    "## Exercise 6\n",
    "### Numpy"
   ]
  },
  {
   "cell_type": "code",
   "execution_count": null,
   "id": "0fb40c9b",
   "metadata": {},
   "outputs": [],
   "source": [
    "import numpy as np"
   ]
  },
  {
   "cell_type": "markdown",
   "id": "61362390",
   "metadata": {},
   "source": [
    "### Les opérations sur les matrices"
   ]
  },
  {
   "cell_type": "code",
   "execution_count": null,
   "id": "3d4e2ad2",
   "metadata": {},
   "outputs": [],
   "source": [
    "a1 = [1, 2, 3, 4]\n",
    "b1 = [5, 6, 7, 8]"
   ]
  },
  {
   "cell_type": "code",
   "execution_count": null,
   "id": "e5ef4bbb",
   "metadata": {},
   "outputs": [],
   "source": [
    "c1 = np.add(a1, b1)\n",
    "print(c1)"
   ]
  },
  {
   "cell_type": "code",
   "execution_count": null,
   "id": "b37b9e14",
   "metadata": {},
   "outputs": [],
   "source": [
    "c1 = np.subtract(a1, b1)\n",
    "print(c1)"
   ]
  },
  {
   "cell_type": "code",
   "execution_count": null,
   "id": "16b75db6",
   "metadata": {},
   "outputs": [],
   "source": [
    "c1 = np.multiply(a1, b1)\n",
    "print(c1)"
   ]
  },
  {
   "cell_type": "code",
   "execution_count": null,
   "id": "73e9eefb",
   "metadata": {},
   "outputs": [],
   "source": [
    "c1 = np.multiply(4, b1)\n",
    "print(c1)"
   ]
  },
  {
   "cell_type": "code",
   "execution_count": null,
   "id": "907afb20",
   "metadata": {},
   "outputs": [],
   "source": [
    "c1 = np.dot(a1, b1)\n",
    "print(c1)"
   ]
  },
  {
   "cell_type": "code",
   "execution_count": null,
   "id": "157f14c8",
   "metadata": {},
   "outputs": [],
   "source": [
    "c1 = np.dot(5, b1)\n",
    "print(c1)"
   ]
  },
  {
   "cell_type": "code",
   "execution_count": null,
   "id": "3fe38277",
   "metadata": {},
   "outputs": [],
   "source": [
    "b1 = [5, 6, 7, 8]\n",
    "c1 = np.dot(a1, b1)\n",
    "print(c)"
   ]
  },
  {
   "cell_type": "code",
   "execution_count": null,
   "id": "3e70c40a",
   "metadata": {},
   "outputs": [],
   "source": [
    "a1 = [1, 2]\n",
    "moyen = np.average(a1)\n",
    "print(moyen)"
   ]
  },
  {
   "cell_type": "markdown",
   "id": "b3f8336c",
   "metadata": {},
   "source": [
    "### Tranposition matricielle"
   ]
  },
  {
   "cell_type": "code",
   "execution_count": null,
   "id": "4197de9a",
   "metadata": {},
   "outputs": [],
   "source": [
    "b1 = [[5, 6, 7, 8, 9], [1, 2, 3, 4, 5]]\n",
    "print(b1)\n",
    "b1 = np.array(b1)\n",
    "print(b1.T)"
   ]
  },
  {
   "cell_type": "markdown",
   "id": "b4c22195",
   "metadata": {},
   "source": [
    "### Séparer une matrice en deux, horizontalement et verticalement"
   ]
  },
  {
   "cell_type": "code",
   "execution_count": null,
   "id": "1c987fce",
   "metadata": {},
   "outputs": [],
   "source": [
    "a = [[0, 0, 0], [0, 1, 0], [1, 0, 0], [1, 1, 1]]\n",
    "a = np.array(a)\n",
    "\n",
    "a = np.hsplit(a, [2])\n",
    "\n",
    "a1 = a[0]\n",
    "a2 = a[1]\n",
    "print(a1)\n",
    "print(a2)"
   ]
  },
  {
   "cell_type": "code",
   "execution_count": null,
   "id": "d126f51f",
   "metadata": {},
   "outputs": [],
   "source": [
    "a = [[0, 0, 0], [0, 1, 0], [1, 0, 0], [1, 1, 1]]\n",
    "a = np.array(a)\n",
    "\n",
    "a = np.vsplit(a, [2])\n",
    "\n",
    "a1 = a[0]\n",
    "a2 = a[1]\n",
    "print(a1)\n",
    "print(a2)"
   ]
  },
  {
   "cell_type": "markdown",
   "id": "bd4a5956",
   "metadata": {},
   "source": [
    "### Les opérations sur les matrices bidimensionnelles"
   ]
  },
  {
   "cell_type": "code",
   "execution_count": null,
   "id": "c92ef0d8",
   "metadata": {},
   "outputs": [],
   "source": [
    "a2 = [[1, 2, 3, 4], [1, 2, 3, 4]]\n",
    "b2 = [[5, 6, 7, 8], [5, 6, 7, 8]]"
   ]
  },
  {
   "cell_type": "code",
   "execution_count": null,
   "id": "f20311ce",
   "metadata": {},
   "outputs": [],
   "source": [
    "c2 = np.add(a2, b2)\n",
    "print(c2)"
   ]
  },
  {
   "cell_type": "code",
   "execution_count": null,
   "id": "603b9d4c",
   "metadata": {},
   "outputs": [],
   "source": [
    "c2 = np.subtract(a2, b2)\n",
    "print(c2)"
   ]
  },
  {
   "cell_type": "code",
   "execution_count": null,
   "id": "a0e94ec9",
   "metadata": {},
   "outputs": [],
   "source": [
    "c2 = np.multiply(a2, b2)\n",
    "print(c2)"
   ]
  },
  {
   "cell_type": "code",
   "execution_count": null,
   "id": "b5762c57",
   "metadata": {},
   "outputs": [],
   "source": [
    "a2 = [[1, 2, 3, 4], [1, 2, 3, 4]]\n",
    "a2 = np.array(a2)\n",
    "b2 = [[5, 6, 7, 8], [5, 6, 7, 8]]\n",
    "b2 = np.array(b2)\n",
    "c2 = np.dot(a2, b2.T)\n",
    "print(c2)"
   ]
  },
  {
   "cell_type": "markdown",
   "id": "841cf9b5",
   "metadata": {},
   "source": [
    "### Redéfinir une matrice"
   ]
  },
  {
   "cell_type": "code",
   "execution_count": null,
   "id": "8b2863b3",
   "metadata": {},
   "outputs": [],
   "source": [
    "b2.reshape(4, 2)\n",
    "print(b2)"
   ]
  },
  {
   "cell_type": "markdown",
   "id": "7710d2e3",
   "metadata": {},
   "source": [
    "### Créer des matrices avec des nombres aléatoires"
   ]
  },
  {
   "cell_type": "code",
   "execution_count": null,
   "id": "11b8d93e",
   "metadata": {},
   "outputs": [],
   "source": [
    "a = np.random.rand()\n",
    "print(a)"
   ]
  },
  {
   "cell_type": "code",
   "execution_count": null,
   "id": "02c3250b",
   "metadata": {},
   "outputs": [],
   "source": [
    "a = np.random.rand(1)\n",
    "print(a)"
   ]
  },
  {
   "cell_type": "code",
   "execution_count": null,
   "id": "4e8fea31",
   "metadata": {},
   "outputs": [],
   "source": [
    "a = np.random.rand(2, 5)\n",
    "print(a)"
   ]
  },
  {
   "cell_type": "code",
   "execution_count": null,
   "id": "44f7e20d",
   "metadata": {},
   "outputs": [],
   "source": [
    "a = np.random.rand(2, 3, 3)\n",
    "print(a)"
   ]
  },
  {
   "cell_type": "code",
   "execution_count": null,
   "id": "b4baaa3f",
   "metadata": {},
   "outputs": [],
   "source": [
    "a = np.zeros(1)\n",
    "print(a)"
   ]
  },
  {
   "cell_type": "code",
   "execution_count": null,
   "id": "e52feea1",
   "metadata": {},
   "outputs": [],
   "source": [
    "a = np.zeros(1, dtype=int)\n",
    "print(a)"
   ]
  },
  {
   "cell_type": "code",
   "execution_count": null,
   "id": "b02c07f3",
   "metadata": {},
   "outputs": [],
   "source": [
    "a = np.zeros((2, 5), dtype=int)\n",
    "print(a)"
   ]
  },
  {
   "cell_type": "markdown",
   "id": "fd65a096",
   "metadata": {},
   "source": [
    "### Quelques fonctions pour travailler avec des listes"
   ]
  },
  {
   "cell_type": "code",
   "execution_count": null,
   "id": "25240d56",
   "metadata": {},
   "outputs": [],
   "source": [
    "a = [12, 13, 14, 15]\n",
    "a_reverse = reversed(a)\n",
    "\n",
    "for num in a_reverse:\n",
    "    print(num)"
   ]
  },
  {
   "cell_type": "code",
   "execution_count": null,
   "id": "bb9b386d",
   "metadata": {},
   "outputs": [],
   "source": [
    "jours = [\"dimanche\", \"lundi\", \"mardi\", \"mercredi\", \"jeudi\", \"vendredi\"]\n",
    "jours_num = list(enumerate(jours))\n",
    "print(jours_num)\n",
    "\n",
    "jours_num = list(enumerate(jours, start=1))\n",
    "print(jours_num)"
   ]
  },
  {
   "cell_type": "code",
   "execution_count": null,
   "id": "b148df69",
   "metadata": {},
   "outputs": [],
   "source": [
    "a1 = [1, 2, 3, 4]\n",
    "b1 = [5, 6, 7, 8]\n",
    "\n",
    "zipped = list(zip(a1, b1))\n",
    "print(zipped)"
   ]
  },
  {
   "cell_type": "code",
   "execution_count": null,
   "id": "dc59d202",
   "metadata": {},
   "outputs": [],
   "source": [
    "a1 = [1, 2, 3, 4]\n",
    "b1 = [5, 6, 7, 8]\n",
    "\n",
    "ezipped = list(enumerate(zip(a1, b1)))\n",
    "print(ezipped)"
   ]
  }
 ],
 "metadata": {
  "kernelspec": {
   "display_name": "Python 3",
   "language": "python",
   "name": "python3"
  },
  "language_info": {
   "codemirror_mode": {
    "name": "ipython",
    "version": 3
   },
   "file_extension": ".py",
   "mimetype": "text/x-python",
   "name": "python",
   "nbconvert_exporter": "python",
   "pygments_lexer": "ipython3",
   "version": "3.8.10"
  }
 },
 "nbformat": 4,
 "nbformat_minor": 5
}
